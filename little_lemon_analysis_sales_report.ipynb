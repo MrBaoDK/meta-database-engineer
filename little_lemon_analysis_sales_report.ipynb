{
 "cells": [
  {
   "cell_type": "markdown",
   "source": [
    "# Little Lemon analysis and sales report"
   ],
   "metadata": {
    "collapsed": false
   },
   "id": "43b531d2d1599bcd"
  },
  {
   "cell_type": "markdown",
   "source": [
    "## Set up the database\n",
    "https://www.coursera.org/learn/database-clients/supplement/Ox8aX/set-up-the-database"
   ],
   "metadata": {
    "collapsed": false
   },
   "id": "5bf866cdc2b0b4f3"
  },
  {
   "cell_type": "code",
   "execution_count": 1,
   "outputs": [],
   "source": [
    "import mysql.connector as connector\n",
    "\n",
    "connection = connector.connect(user=\"root\", password=\"\")"
   ],
   "metadata": {
    "collapsed": false,
    "ExecuteTime": {
     "end_time": "2024-10-13T14:57:36.769283Z",
     "start_time": "2024-10-13T14:57:36.737949Z"
    }
   },
   "id": "597e5ad3d68f0f18"
  },
  {
   "cell_type": "code",
   "execution_count": 2,
   "outputs": [],
   "source": [
    "cursor = connection.cursor()\n",
    "cursor.execute(\"DROP DATABASE IF EXISTS little_lemon_db\")  # added this line to drop the database if it already exists\n",
    "cursor.execute(\"CREATE DATABASE little_lemon_db\")\n",
    "cursor.execute(\"USE little_lemon_db\")"
   ],
   "metadata": {
    "collapsed": false,
    "ExecuteTime": {
     "end_time": "2024-10-13T14:57:36.807873Z",
     "start_time": "2024-10-13T14:57:36.770960Z"
    }
   },
   "id": "c49bb5918d372791"
  },
  {
   "cell_type": "code",
   "execution_count": 3,
   "outputs": [],
   "source": [
    "#MenuItems table\n",
    "create_menuitem_table = \"\"\"\n",
    "CREATE TABLE MenuItems (\n",
    "    ItemID INT AUTO_INCREMENT PRIMARY KEY,\n",
    "    Name VARCHAR(200),\n",
    "    Type VARCHAR(100),\n",
    "    Price INT\n",
    ");\n",
    "\"\"\""
   ],
   "metadata": {
    "collapsed": false,
    "ExecuteTime": {
     "end_time": "2024-10-13T14:57:36.809322Z",
     "start_time": "2024-10-13T14:57:36.789658Z"
    }
   },
   "id": "553d58d0e4355a70"
  },
  {
   "cell_type": "code",
   "execution_count": 4,
   "outputs": [],
   "source": [
    "create_menu_table = \"\"\"\n",
    "CREATE TABLE Menus (\n",
    "    MenuID INT,\n",
    "    ItemID INT,\n",
    "    Cuisine VARCHAR(100),\n",
    "    PRIMARY KEY (MenuID, ItemID)\n",
    ");\n",
    "\"\"\""
   ],
   "metadata": {
    "collapsed": false,
    "ExecuteTime": {
     "end_time": "2024-10-13T14:57:36.809917Z",
     "start_time": "2024-10-13T14:57:36.792820Z"
    }
   },
   "id": "f3d9d01041aed2bc"
  },
  {
   "cell_type": "code",
   "execution_count": 5,
   "outputs": [],
   "source": [
    "create_booking_table = \"\"\"\n",
    "CREATE TABLE Bookings (\n",
    "    BookingID INT AUTO_INCREMENT PRIMARY KEY,\n",
    "    TableNo INT,\n",
    "    GuestFirstName VARCHAR(100) NOT NULL,\n",
    "    GuestLastName VARCHAR(100) NOT NULL,\n",
    "    BookingSlot TIME NOT NULL,\n",
    "    EmployeeID INT\n",
    ");\n",
    "\"\"\""
   ],
   "metadata": {
    "collapsed": false,
    "ExecuteTime": {
     "end_time": "2024-10-13T14:57:36.810236Z",
     "start_time": "2024-10-13T14:57:36.795471Z"
    }
   },
   "id": "7fad947fbe39f6c4"
  },
  {
   "cell_type": "code",
   "execution_count": 6,
   "outputs": [],
   "source": [
    "create_orders_table = \"\"\"\n",
    "CREATE TABLE Orders (\n",
    "    OrderID INT,\n",
    "    TableNo INT,\n",
    "    MenuID INT,\n",
    "    BookingID INT,\n",
    "    BillAmount INT,\n",
    "    Quantity INT,\n",
    "    PRIMARY KEY (OrderID, TableNo)\n",
    ");\n",
    "\"\"\""
   ],
   "metadata": {
    "collapsed": false,
    "ExecuteTime": {
     "end_time": "2024-10-13T14:57:36.810522Z",
     "start_time": "2024-10-13T14:57:36.797618Z"
    }
   },
   "id": "b9ae3d102eb30dad"
  },
  {
   "cell_type": "code",
   "execution_count": 7,
   "outputs": [],
   "source": [
    "create_employees_table = \"\"\"\n",
    "CREATE TABLE Employees (\n",
    "    EmployeeID INT AUTO_INCREMENT PRIMARY KEY,\n",
    "    Name VARCHAR(255),\n",
    "    Role VARCHAR(100),\n",
    "    Address VARCHAR(255),\n",
    "    Contact_Number INT,\n",
    "    Email VARCHAR(255),\n",
    "    Annual_Salary VARCHAR(100)\n",
    ");\n",
    "\"\"\""
   ],
   "metadata": {
    "collapsed": false,
    "ExecuteTime": {
     "end_time": "2024-10-13T14:57:36.810806Z",
     "start_time": "2024-10-13T14:57:36.799816Z"
    }
   },
   "id": "5c9844c20b622bbd"
  },
  {
   "cell_type": "code",
   "execution_count": 8,
   "outputs": [],
   "source": [
    "cursor.execute(create_menuitem_table)\n",
    "cursor.execute(create_menu_table)\n",
    "cursor.execute(create_booking_table)\n",
    "cursor.execute(create_orders_table)\n",
    "cursor.execute(create_employees_table)"
   ],
   "metadata": {
    "collapsed": false,
    "ExecuteTime": {
     "end_time": "2024-10-13T14:57:36.831077Z",
     "start_time": "2024-10-13T14:57:36.802400Z"
    }
   },
   "id": "c57fd6ea5917ed0e"
  },
  {
   "cell_type": "code",
   "execution_count": 9,
   "outputs": [],
   "source": [
    "#*******************************************************#\n",
    "# Insert query to populate \"MenuItems\" table:\n",
    "#*******************************************************#\n",
    "insert_menuitems = \"\"\"\n",
    "INSERT INTO MenuItems (ItemID, Name, Type, Price)\n",
    "VALUES\n",
    "(1, 'Olives','Starters',5),\n",
    "(2, 'Flatbread','Starters', 5),\n",
    "(3, 'Minestrone', 'Starters', 8),\n",
    "(4, 'Tomato bread','Starters', 8),\n",
    "(5, 'Falafel', 'Starters', 7),\n",
    "(6, 'Hummus', 'Starters', 5),\n",
    "(7, 'Greek salad', 'Main Courses', 15),\n",
    "(8, 'Bean soup', 'Main Courses', 12),\n",
    "(9, 'Pizza', 'Main Courses', 15),\n",
    "(10, 'Greek yoghurt','Desserts', 7),\n",
    "(11, 'Ice cream', 'Desserts', 6),\n",
    "(12, 'Cheesecake', 'Desserts', 4),\n",
    "(13, 'Athens White wine', 'Drinks', 25),\n",
    "(14, 'Corfu Red Wine', 'Drinks', 30),\n",
    "(15, 'Turkish Coffee', 'Drinks', 10),\n",
    "(16, 'Turkish Coffee', 'Drinks', 10),\n",
    "(17, 'Kabasa', 'Main Courses', 17);\"\"\"\n",
    "\n",
    "#*******************************************************#\n",
    "# Insert query to populate \"Menu\" table:\n",
    "#*******************************************************#\n",
    "insert_menu = \"\"\"\n",
    "INSERT INTO Menus (MenuID,ItemID,Cuisine)\n",
    "VALUES\n",
    "(1, 1, 'Greek'),\n",
    "(1, 7, 'Greek'),\n",
    "(1, 10, 'Greek'),\n",
    "(1, 13, 'Greek'),\n",
    "(2, 3, 'Italian'),\n",
    "(2, 9, 'Italian'),\n",
    "(2, 12, 'Italian'),\n",
    "(2, 15, 'Italian'),\n",
    "(3, 5, 'Turkish'),\n",
    "(3, 17, 'Turkish'),\n",
    "(3, 11, 'Turkish'),\n",
    "(3, 16, 'Turkish');\"\"\"\n",
    "\n",
    "#*******************************************************#\n",
    "# Insert query to populate \"Bookings\" table:\n",
    "#*******************************************************#\n",
    "insert_bookings = \"\"\"\n",
    "INSERT INTO Bookings (BookingID, TableNo, GuestFirstName, \n",
    "GuestLastName, BookingSlot, EmployeeID)\n",
    "VALUES\n",
    "(1, 12, 'Anna','Iversen','19:00:00',1),\n",
    "(2, 12, 'Joakim', 'Iversen', '19:00:00', 1),\n",
    "(3, 19, 'Vanessa', 'McCarthy', '15:00:00', 3),\n",
    "(4, 15, 'Marcos', 'Romero', '17:30:00', 4),\n",
    "(5, 5, 'Hiroki', 'Yamane', '18:30:00', 2),\n",
    "(6, 8, 'Diana', 'Pinto', '20:00:00', 5);\"\"\"\n",
    "\n",
    "#*******************************************************#\n",
    "# Insert query to populate \"Orders\" table:\n",
    "#*******************************************************#\n",
    "insert_orders = \"\"\"\n",
    "INSERT INTO Orders (OrderID, TableNo, MenuID, BookingID, Quantity, BillAmount)\n",
    "VALUES\n",
    "(1, 12, 1, 1, 2, 86),\n",
    "(2, 19, 2, 2, 1, 37),\n",
    "(3, 15, 2, 3, 1, 37),\n",
    "(4, 5, 3, 4, 1, 40),\n",
    "(5, 8, 1, 5, 1, 43);\"\"\"\n",
    "\n",
    "#*******************************************************#\n",
    "# Insert query to populate \"Employees\" table:\n",
    "#*******************************************************#\n",
    "insert_employees = \"\"\"\n",
    "INSERT INTO employees (EmployeeID, Name, Role, Address, Contact_Number, Email, Annual_Salary)\n",
    "VALUES\n",
    "(1, 'Mario Gollini', 'Manager', '724, Parsley Lane, Old Town, Chicago, IL', 351258074, 'Mario.g@littlelemon.com', 70000),\n",
    "(2, 'Adrian Gollini', 'Assistant Manager', '334, Dill Square, Lincoln Park, Chicago, IL', 351474048, 'Adrian.g@littlelemon.com', 65000),\n",
    "(3, 'Giorgos Dioudis', 'Head Chef', '879 Sage Street, West Loop, Chicago, IL', 351970582, 'Giorgos.d@littlelemon.com', 50000),\n",
    "(4, 'Fatma Kaya', 'Assistant Chef', '132 Bay Lane, Chicago, IL', 351963569, 'Fatma.k@littlelemon.com', 45000),\n",
    "(5, 'Elena Salvai', 'Head Waiter', '989 Thyme Square, EdgeWater, Chicago, IL', 351074198, 'Elena.s@littlelemon.com', 40000),\n",
    "(6, 'John Millar', 'Receptionist', '245 Dill Square, Lincoln Park, Chicago, IL', 351584508, 'John.m@littlelemon.com', 35000);\"\"\"\n"
   ],
   "metadata": {
    "collapsed": false,
    "ExecuteTime": {
     "end_time": "2024-10-13T14:57:36.837680Z",
     "start_time": "2024-10-13T14:57:36.834837Z"
    }
   },
   "id": "1b12d19bec8fb913"
  },
  {
   "cell_type": "code",
   "execution_count": 10,
   "outputs": [],
   "source": [
    "cursor.execute(insert_menuitems)\n",
    "connection.commit()\n",
    "cursor.execute(insert_menu)\n",
    "connection.commit()\n",
    "cursor.execute(insert_bookings)\n",
    "connection.commit()\n",
    "cursor.execute(insert_orders)\n",
    "connection.commit()\n",
    "cursor.execute(insert_employees)\n",
    "connection.commit()\n",
    "\n",
    "cursor.close()\n",
    "connection.close()"
   ],
   "metadata": {
    "collapsed": false,
    "ExecuteTime": {
     "end_time": "2024-10-13T14:57:36.844549Z",
     "start_time": "2024-10-13T14:57:36.837481Z"
    }
   },
   "id": "dc2d923e20465f9e"
  },
  {
   "cell_type": "markdown",
   "source": [
    "# Task 1:\n",
    "Complete the following steps to establish a connection pool:\n",
    "\n",
    "* To create a connection pool, import MySQLConnectionPool class from MySQL Connector/Python.\n",
    "* To find the information on the error, import the Error class from MySQL Connector/Python.\n",
    "* Define your database configurations as a Python dictionary object called dbconfig.\n",
    "* Establish a connection pool [pool_name = pool_b] with two connections. \n",
    "* Implement error handling using a try-except block in case the connection fails. "
   ],
   "metadata": {
    "collapsed": false
   },
   "id": "64b7da646e8d6bfb"
  },
  {
   "cell_type": "markdown",
   "source": [],
   "metadata": {
    "collapsed": false
   },
   "id": "ecaad64ce75c3e43"
  },
  {
   "cell_type": "code",
   "execution_count": 11,
   "outputs": [],
   "source": [
    "# To create a connection pool, import MySQLConnectionPool class from MySQL Connector/Python.\n",
    "# To find the information on the error, import the Error class from MySQL Connector/Python.\n",
    "from mysql.connector.pooling import MySQLConnectionPool\n",
    "from mysql.connector import Error"
   ],
   "metadata": {
    "collapsed": false,
    "ExecuteTime": {
     "end_time": "2024-10-13T14:57:36.847348Z",
     "start_time": "2024-10-13T14:57:36.845651Z"
    }
   },
   "id": "f21b8e3718cf60f5"
  },
  {
   "cell_type": "code",
   "execution_count": 12,
   "outputs": [],
   "source": [
    "# Define your database configurations as a Python dictionary object called dbconfig.\n",
    "dbconfig = {\n",
    "    \"user\": \"root\",\n",
    "    \"password\": \"\",\n",
    "    \"host\": \"localhost\",\n",
    "    \"database\": \"little_lemon_db\",\n",
    "}"
   ],
   "metadata": {
    "collapsed": false,
    "ExecuteTime": {
     "end_time": "2024-10-13T14:57:36.850995Z",
     "start_time": "2024-10-13T14:57:36.848213Z"
    }
   },
   "id": "2375ee4156907d17"
  },
  {
   "cell_type": "code",
   "execution_count": 13,
   "outputs": [
    {
     "name": "stdout",
     "output_type": "stream",
     "text": [
      "Connection successful.\n"
     ]
    }
   ],
   "source": [
    "# Establish a connection pool with a pool_name 'pool_b' and 2 connections\n",
    "# Implement error handling using a try-except block in case the connection fails. \n",
    "try:\n",
    "    connection_pool = MySQLConnectionPool(pool_name=\"pool_b\", pool_size=2, **dbconfig)\n",
    "    print(\"Connection successful.\")\n",
    "except Error as e:\n",
    "    print(f\"Error: {e}\")"
   ],
   "metadata": {
    "collapsed": false,
    "ExecuteTime": {
     "end_time": "2024-10-13T14:57:36.862399Z",
     "start_time": "2024-10-13T14:57:36.849663Z"
    }
   },
   "id": "5b60c72404e5b076"
  },
  {
   "cell_type": "markdown",
   "source": [
    "# Task 2:\n",
    "Three guests are trying to book dinner slots simultaneously. Get the connections from pool_b and insert the following data in the Bookings table:\n",
    "\n",
    "TIP: You need to add a connection to connect the third guest.\n",
    "\n",
    "\n",
    "Guest 1:\n",
    "Table Number: 8\n",
    "First Name: Anees\n",
    "Last Name: Java\n",
    "Booking Time: 18:00\n",
    "EmployeeID: 6\n",
    "\n",
    "Guest 2:\n",
    "Table Number: 5\n",
    "First Name: Bald\n",
    "Last Name: Vin\n",
    "Booking Time: 19:00\n",
    "EmployeeID: 6\n",
    "\n",
    "Guest 3:\n",
    "Table Number: 12\n",
    "First Name: Jay\n",
    "Last Name: Kon\n",
    "Booking Time: 19:30 \n",
    "EmployeeID: 6\n",
    "\n",
    "Return all the connections back to the pool. \n",
    "\n",
    "TIP: The pool size is two. However, you have three connected users. You can only return two connections. Returning a third connection will raise a PoolError. Use try-except to print the error message.  "
   ],
   "metadata": {
    "collapsed": false
   },
   "id": "56160a11f30c559f"
  },
  {
   "cell_type": "code",
   "execution_count": 14,
   "outputs": [
    {
     "name": "stdout",
     "output_type": "stream",
     "text": [
      "Booking added for Guest 1\n",
      "Booking added for Guest 2\n",
      "Failed to get a connection from the pool. The pool is full. Making a new connection.\n",
      "New connection added\n",
      "Booking added for Guest 3\n",
      "Connection <mysql.connector.pooling.PooledMySQLConnection object at 0x103bef880> is returned to the pool\n",
      "Connection <mysql.connector.pooling.PooledMySQLConnection object at 0x103bef910> is returned to the pool\n",
      "Connection <mysql.connector.pooling.PooledMySQLConnection object at 0x10390de80> can't be returned to the pool\n",
      "Error: Failed adding connection; queue is full\n"
     ]
    }
   ],
   "source": [
    "# SQL Query to insert data into Bookings table\n",
    "insert_query = \"\"\"\n",
    "    INSERT INTO Bookings (TableNo, GuestFirstName, GuestLastName, BookingSlot, EmployeeID)\n",
    "    VALUES (%s, %s, %s, %s, %s)\n",
    "\"\"\"\n",
    "\n",
    "guests = [\n",
    "    (8, 'Anees', 'Java', '18:00', 6),  # Guest 1\n",
    "    (5, 'Bald', 'Vin', '19:00', 6),  # Guest 2\n",
    "    (12, 'Jay', 'Kon', '19:30', 6)  # Guest 3\n",
    "]\n",
    "\n",
    "connection1 = connection_pool.get_connection()\n",
    "cursor1 = connection1.cursor()\n",
    "cursor1.execute(insert_query, guests[0])\n",
    "connection1.commit()\n",
    "print(\"Booking added for Guest 1\")\n",
    "\n",
    "# Booking for Guest 2\n",
    "connection2 = connection_pool.get_connection()\n",
    "cursor2 = connection2.cursor()\n",
    "cursor2.execute(insert_query, guests[1])\n",
    "connection2.commit()\n",
    "print(\"Booking added for Guest 2\")\n",
    "\n",
    "# Booking for Guest 3\n",
    "# TIP: You need to add a connection to connect the third guest.\n",
    "try:\n",
    "    connection3 = connection_pool.get_connection()\n",
    "except:\n",
    "    print(\"Failed to get a connection from the pool. The pool is full. Making a new connection.\")\n",
    "    connection=connector.connect(user=\"root\",password=\"\")\n",
    "    connection_pool.add_connection(cnx=connection)\n",
    "    print(\"New connection added\")\n",
    "    connection3 = connection_pool.get_connection()\n",
    "\n",
    "cursor3 = connection3.cursor()\n",
    "cursor3.execute(insert_query, guests[2])\n",
    "connection3.commit()\n",
    "print(\"Booking added for Guest 3\")\n",
    "\n",
    "# Return all the connections back to the pool.\n",
    "# TIP: The pool size is two. However, you have three connected users. You can only return two connections. Returning a third connection will raise a PoolError. Use try-except to print the error message.\n",
    "for connection in [connection1, connection2, connection3]:\n",
    "    try:\n",
    "        connection.close()\n",
    "        print(f\"Connection {connection} is returned to the pool\")\n",
    "    except Error as err:\n",
    "        print(f\"Connection {connection} can't be returned to the pool\")\n",
    "        print(f\"Error: {err}\")"
   ],
   "metadata": {
    "collapsed": false,
    "ExecuteTime": {
     "end_time": "2024-10-13T14:57:36.882397Z",
     "start_time": "2024-10-13T14:57:36.865424Z"
    }
   },
   "id": "117a2b4f645801c"
  },
  {
   "cell_type": "markdown",
   "source": [
    "# Task 3:\n",
    "Create a report containing the following information:\n",
    "\n",
    "* The name and EmployeeID of the Little Lemon manager.\n",
    "* The name and role of the employee who receives the highest salary.\n",
    "* The number of guests booked between 18:00 and 20:00.\n",
    "* The full name and BookingID of all guests waiting to be seated with the receptionist in sorted order with respect to their BookingSlot."
   ],
   "metadata": {
    "collapsed": false
   },
   "id": "e9bf23bf75be9fce"
  },
  {
   "cell_type": "code",
   "execution_count": 15,
   "outputs": [],
   "source": [
    "# The name and EmployeeID of the Little Lemon manager.\n",
    "manager_report = \"\"\"\n",
    "SELECT Name, EmployeeID \n",
    "FROM Employees\n",
    "WHERE Role = 'Manager';\n",
    "\"\"\"\n",
    "\n",
    "# The name and role of the employee who receives the highest salary.\n",
    "highest_salary_report = \"\"\"\n",
    "SELECT Name, Role\n",
    "FROM Employees\n",
    "WHERE Annual_Salary = (\n",
    "    SELECT MAX(Annual_Salary) FROM Employees\n",
    ");\n",
    "\"\"\"\n",
    "\n",
    "# The number of guests booked between 18:00 and 20:00.\n",
    "guests_report = \"\"\"\n",
    "SELECT COUNT(BookingID) AS number_of_guests\n",
    "FROM Bookings\n",
    "WHERE BookingSlot BETWEEN '18:00:00' AND '20:00:00';\n",
    "\"\"\"\n",
    "\n",
    "# The full name and BookingID of all guests waiting to be seated with the receptionist\n",
    "# in sorted order with respect to their BookingSlot.\n",
    "waiting_guests_report = \"\"\"\n",
    "SELECT \n",
    "    CONCAT(Bookings.GuestFirstName, ' ', Bookings.GuestLastName) AS GuestFullName,\n",
    "    Bookings.BookingID\n",
    "FROM Bookings\n",
    "LEFT JOIN Employees \n",
    "    ON Employees.EmployeeID = Bookings.EmployeeID\n",
    "WHERE Employees.Role = 'Receptionist'\n",
    "ORDER BY Bookings.BookingSlot DESC;\n",
    "\"\"\"\n"
   ],
   "metadata": {
    "collapsed": false,
    "ExecuteTime": {
     "end_time": "2024-10-13T14:57:36.956761Z",
     "start_time": "2024-10-13T14:57:36.882030Z"
    }
   },
   "id": "6a331aaa539987b0"
  },
  {
   "cell_type": "code",
   "execution_count": 16,
   "outputs": [
    {
     "name": "stdout",
     "output_type": "stream",
     "text": [
      "Created connection to make reports\n",
      "\n",
      "\n",
      "Manager report (The name and EmployeeID of the Little Lemon manager) :\n",
      "[('Mario Gollini', 1)]\n",
      "\n",
      "\n",
      "Highest salary report (The name and role of the employee who receives the highest salary) :\n",
      "[('Mario Gollini', 'Manager')]\n",
      "\n",
      "\n",
      "Guests report (The number of guests booked between 18:00 and 20:00) :\n",
      "[(7,)]\n",
      "\n",
      "\n",
      "Waiting guests report (The full name and BookingID of all guests waiting to be seated with the receptionist in sorted order with respect to their BookingSlot) :\n",
      "('Jay Kon', 9)\n",
      "('Bald Vin', 8)\n",
      "('Anees Java', 7)\n",
      "\n",
      "Closed connection\n"
     ]
    }
   ],
   "source": [
    "connection = connection_pool.get_connection()\n",
    "report_cursor = connection.cursor()\n",
    "print(\"Created connection to make reports\")\n",
    "\n",
    "print(\"\\n\")\n",
    "\n",
    "report_cursor.execute(manager_report)\n",
    "manager = report_cursor.fetchall()\n",
    "print(\"Manager report (The name and EmployeeID of the Little Lemon manager) :\")\n",
    "print(manager)\n",
    "\n",
    "print(\"\\n\")\n",
    "\n",
    "report_cursor.execute(highest_salary_report)\n",
    "highest_salary = report_cursor.fetchall()\n",
    "print(\"Highest salary report (The name and role of the employee who receives the highest salary) :\")\n",
    "print(highest_salary)\n",
    "\n",
    "print(\"\\n\")\n",
    "\n",
    "report_cursor.execute(guests_report)\n",
    "guests = report_cursor.fetchall()\n",
    "print(\"Guests report (The number of guests booked between 18:00 and 20:00) :\")\n",
    "print(guests)\n",
    "\n",
    "print(\"\\n\")\n",
    "\n",
    "report_cursor.execute(waiting_guests_report)\n",
    "waiting_guests = report_cursor.fetchall()\n",
    "print(\"Waiting guests report (The full name and BookingID of all guests waiting to be seated with the receptionist in sorted order with respect to their BookingSlot) :\")\n",
    "\n",
    "for guest in waiting_guests:\n",
    "    print(guest)\n",
    "\n",
    "report_cursor.close()\n",
    "connection.close()\n",
    "print(\"\\nClosed connection\")\n",
    "\n"
   ],
   "metadata": {
    "collapsed": false,
    "ExecuteTime": {
     "end_time": "2024-10-13T14:57:36.957477Z",
     "start_time": "2024-10-13T14:57:36.886110Z"
    }
   },
   "id": "2d7d50130cb6b40b"
  },
  {
   "cell_type": "markdown",
   "source": [
    "# Task 4:\n",
    "Create a stored procedure named BasicSalesReport that returns the following statistics: \n",
    "\n",
    "* Total sales\n",
    "* Average sale\n",
    "* Minimum bill paid\n",
    "* Maximum bill paid"
   ],
   "metadata": {
    "collapsed": false
   },
   "id": "b0e41ab34c9f9fd4"
  },
  {
   "cell_type": "code",
   "execution_count": 17,
   "outputs": [
    {
     "name": "stdout",
     "output_type": "stream",
     "text": [
      "Created connection to database\n",
      "\n",
      "TotalSales: 243\n",
      "AverageSale: 48.6000\n",
      "MinBillPaid: 37\n",
      "MaxBillPaid: 86\n",
      "\n",
      "Closed connection\n"
     ]
    }
   ],
   "source": [
    "connection = connection_pool.get_connection()\n",
    "cursor = connection.cursor()\n",
    "print(\"Created connection to database\\n\")\n",
    "\n",
    "# Create a stored procedure named BasicSalesReport\n",
    "create_basic_sales_report_procedure = \"\"\"\n",
    "CREATE PROCEDURE BasicSalesReport()\n",
    "BEGIN\n",
    "    SELECT SUM(BillAmount) AS TotalSales,\n",
    "           AVG(BillAmount) AS AverageSale,\n",
    "           MIN(BillAmount) AS MinBillPaid,\n",
    "           MAX(BillAmount) AS MaxBillPaid\n",
    "    FROM Orders;\n",
    "END\n",
    "\"\"\"\n",
    "\n",
    "cursor.execute(create_basic_sales_report_procedure)\n",
    "\n",
    "# Call the stored procedure\n",
    "cursor.callproc('BasicSalesReport')\n",
    "results = next(cursor.stored_results())\n",
    "dataset = results.fetchall()\n",
    "\n",
    "# Get the column names\n",
    "for column_id in cursor.stored_results():\n",
    "    cols = [column[0] for column in column_id.description]\n",
    "\n",
    "# Display the results\n",
    "for data in dataset:\n",
    "    print(f\"{cols[0]}: {data[0]}\")\n",
    "    print(f\"{cols[1]}: {data[1]}\")\n",
    "    print(f\"{cols[2]}: {data[2]}\")\n",
    "    print(f\"{cols[3]}: {data[3]}\")\n",
    "\n",
    "cursor.close()\n",
    "connection.close()\n",
    "print(\"\\nClosed connection\")\n"
   ],
   "metadata": {
    "collapsed": false,
    "ExecuteTime": {
     "end_time": "2024-10-13T14:57:36.970373Z",
     "start_time": "2024-10-13T14:57:36.923439Z"
    }
   },
   "id": "d04c32dcf0c8d36b"
  },
  {
   "cell_type": "markdown",
   "source": [
    "# Task 5:\n",
    "Little Lemon needs to display the next three upcoming bookings from the Bookings table on the kitchen screen to notify their chefs which orders are due next. To complete this task, carry out the following steps:\n",
    "\n",
    "* Get a connection from the pool.\n",
    "* Create a buffered cursor.\n",
    "* Combine the data from the Bookings and the Employee tables. Sort the retrieved records in ascending order. Then display the information of the first three guests. \n",
    "* Returned the connection back to the pool.\n",
    "\n",
    "The output should be as follows:\n",
    "\n",
    "[BookingSlot]\n",
    "[Guest_name]\n",
    "[Assigned to: Employee Name [Employee Role]]"
   ],
   "metadata": {
    "collapsed": false
   },
   "id": "9d7f0b93b0cda84b"
  },
  {
   "cell_type": "code",
   "execution_count": 18,
   "outputs": [
    {
     "name": "stdout",
     "output_type": "stream",
     "text": [
      "Created buffered cursor\n",
      "[15:00:00]\n",
      "[Vanessa McCarthy]\n",
      "[Assigned to: Giorgos Dioudis [Head Chef]]\n",
      "\n",
      "\n",
      "[17:30:00]\n",
      "[Marcos Romero]\n",
      "[Assigned to: Fatma Kaya [Assistant Chef]]\n",
      "\n",
      "\n",
      "[18:00:00]\n",
      "[Anees Java]\n",
      "[Assigned to: John Millar [Receptionist]]\n",
      "\n",
      "\n",
      "\n",
      "Closed connection\n"
     ]
    }
   ],
   "source": [
    "# Get a connection from the pool\n",
    "connection = connection_pool.get_connection()\n",
    "\n",
    "# Create a buffered cursor\n",
    "cursor = connection.cursor(buffered=True)\n",
    "\n",
    "print(\"Created buffered cursor\")\n",
    "\n",
    "# Query to combine data from Bookings and Employee tables and retrieve the first three guests\n",
    "upcoming_bookings_query = \"\"\"\n",
    "SELECT \n",
    "    Bookings.BookingSlot,\n",
    "    CONCAT(Bookings.GuestFirstName, ' ', Bookings.GuestLastName) AS Guest_Name,\n",
    "    Employees.Name AS EmployeeName,\n",
    "    Employees.Role AS EmployeeRole\n",
    "FROM Bookings\n",
    "INNER JOIN Employees\n",
    "    ON Bookings.EmployeeID = Employees.EmployeeID\n",
    "ORDER BY Bookings.BookingSlot ASC\n",
    "LIMIT 3;\n",
    "\"\"\"\n",
    "\n",
    "# Execute the query and fetch results\n",
    "cursor.execute(upcoming_bookings_query)\n",
    "results = cursor.fetchall()\n",
    "\n",
    "# Display the results\n",
    "for result in results:\n",
    "    print(f\"[{result[0]}]\")\n",
    "    print(f\"[{result[1]}]\")\n",
    "    print(f\"[Assigned to: {result[2]} [{result[3]}]]\")\n",
    "    print(\"\\n\")\n",
    "\n",
    "cursor.close()\n",
    "connection.close()\n",
    "print(\"\\nClosed connection\")"
   ],
   "metadata": {
    "collapsed": false,
    "ExecuteTime": {
     "end_time": "2024-10-13T14:57:36.970764Z",
     "start_time": "2024-10-13T14:57:36.923607Z"
    }
   },
   "id": "b7bb5028a846b294"
  },
  {
   "cell_type": "code",
   "execution_count": 18,
   "outputs": [],
   "source": [],
   "metadata": {
    "collapsed": false,
    "ExecuteTime": {
     "end_time": "2024-10-13T14:57:36.971061Z",
     "start_time": "2024-10-13T14:57:36.923654Z"
    }
   },
   "id": "69423326a0a19632"
  }
 ],
 "metadata": {
  "kernelspec": {
   "display_name": "Python 3",
   "language": "python",
   "name": "python3"
  },
  "language_info": {
   "codemirror_mode": {
    "name": "ipython",
    "version": 2
   },
   "file_extension": ".py",
   "mimetype": "text/x-python",
   "name": "python",
   "nbconvert_exporter": "python",
   "pygments_lexer": "ipython2",
   "version": "2.7.6"
  }
 },
 "nbformat": 4,
 "nbformat_minor": 5
}
